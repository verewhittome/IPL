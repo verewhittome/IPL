{
 "cells": [
  {
   "cell_type": "code",
   "execution_count": 1,
   "metadata": {},
   "outputs": [
    {
     "name": "stderr",
     "output_type": "stream",
     "text": [
      "Using TensorFlow backend.\n",
      "/usr/local/google/home/vere/.local/lib/python3.7/site-packages/tensorflow/python/framework/dtypes.py:516: FutureWarning: Passing (type, 1) or '1type' as a synonym of type is deprecated; in a future version of numpy, it will be understood as (type, (1,)) / '(1,)type'.\n",
      "  _np_qint8 = np.dtype([(\"qint8\", np.int8, 1)])\n",
      "/usr/local/google/home/vere/.local/lib/python3.7/site-packages/tensorflow/python/framework/dtypes.py:517: FutureWarning: Passing (type, 1) or '1type' as a synonym of type is deprecated; in a future version of numpy, it will be understood as (type, (1,)) / '(1,)type'.\n",
      "  _np_quint8 = np.dtype([(\"quint8\", np.uint8, 1)])\n",
      "/usr/local/google/home/vere/.local/lib/python3.7/site-packages/tensorflow/python/framework/dtypes.py:518: FutureWarning: Passing (type, 1) or '1type' as a synonym of type is deprecated; in a future version of numpy, it will be understood as (type, (1,)) / '(1,)type'.\n",
      "  _np_qint16 = np.dtype([(\"qint16\", np.int16, 1)])\n",
      "/usr/local/google/home/vere/.local/lib/python3.7/site-packages/tensorflow/python/framework/dtypes.py:519: FutureWarning: Passing (type, 1) or '1type' as a synonym of type is deprecated; in a future version of numpy, it will be understood as (type, (1,)) / '(1,)type'.\n",
      "  _np_quint16 = np.dtype([(\"quint16\", np.uint16, 1)])\n",
      "/usr/local/google/home/vere/.local/lib/python3.7/site-packages/tensorflow/python/framework/dtypes.py:520: FutureWarning: Passing (type, 1) or '1type' as a synonym of type is deprecated; in a future version of numpy, it will be understood as (type, (1,)) / '(1,)type'.\n",
      "  _np_qint32 = np.dtype([(\"qint32\", np.int32, 1)])\n",
      "/usr/local/google/home/vere/.local/lib/python3.7/site-packages/tensorflow/python/framework/dtypes.py:525: FutureWarning: Passing (type, 1) or '1type' as a synonym of type is deprecated; in a future version of numpy, it will be understood as (type, (1,)) / '(1,)type'.\n",
      "  np_resource = np.dtype([(\"resource\", np.ubyte, 1)])\n",
      "/usr/local/google/home/vere/.local/lib/python3.7/site-packages/tensorboard/compat/tensorflow_stub/dtypes.py:541: FutureWarning: Passing (type, 1) or '1type' as a synonym of type is deprecated; in a future version of numpy, it will be understood as (type, (1,)) / '(1,)type'.\n",
      "  _np_qint8 = np.dtype([(\"qint8\", np.int8, 1)])\n",
      "/usr/local/google/home/vere/.local/lib/python3.7/site-packages/tensorboard/compat/tensorflow_stub/dtypes.py:542: FutureWarning: Passing (type, 1) or '1type' as a synonym of type is deprecated; in a future version of numpy, it will be understood as (type, (1,)) / '(1,)type'.\n",
      "  _np_quint8 = np.dtype([(\"quint8\", np.uint8, 1)])\n",
      "/usr/local/google/home/vere/.local/lib/python3.7/site-packages/tensorboard/compat/tensorflow_stub/dtypes.py:543: FutureWarning: Passing (type, 1) or '1type' as a synonym of type is deprecated; in a future version of numpy, it will be understood as (type, (1,)) / '(1,)type'.\n",
      "  _np_qint16 = np.dtype([(\"qint16\", np.int16, 1)])\n",
      "/usr/local/google/home/vere/.local/lib/python3.7/site-packages/tensorboard/compat/tensorflow_stub/dtypes.py:544: FutureWarning: Passing (type, 1) or '1type' as a synonym of type is deprecated; in a future version of numpy, it will be understood as (type, (1,)) / '(1,)type'.\n",
      "  _np_quint16 = np.dtype([(\"quint16\", np.uint16, 1)])\n",
      "/usr/local/google/home/vere/.local/lib/python3.7/site-packages/tensorboard/compat/tensorflow_stub/dtypes.py:545: FutureWarning: Passing (type, 1) or '1type' as a synonym of type is deprecated; in a future version of numpy, it will be understood as (type, (1,)) / '(1,)type'.\n",
      "  _np_qint32 = np.dtype([(\"qint32\", np.int32, 1)])\n",
      "/usr/local/google/home/vere/.local/lib/python3.7/site-packages/tensorboard/compat/tensorflow_stub/dtypes.py:550: FutureWarning: Passing (type, 1) or '1type' as a synonym of type is deprecated; in a future version of numpy, it will be understood as (type, (1,)) / '(1,)type'.\n",
      "  np_resource = np.dtype([(\"resource\", np.ubyte, 1)])\n"
     ]
    }
   ],
   "source": [
    "import numpy as np\n",
    "import pandas as pd \n",
    "from keras.models import load_model, Model\n",
    "from keras.layers import Dense, Activation, Dropout, Input, LSTM, Reshape, Lambda, RepeatVector\n",
    "from keras.initializers import glorot_uniform\n",
    "from keras.utils import to_categorical\n",
    "from keras.optimizers import Adam\n",
    "from keras import backend as K\n",
    "import tensorflow as tf"
   ]
  },
  {
   "cell_type": "code",
   "execution_count": 2,
   "metadata": {},
   "outputs": [
    {
     "name": "stdout",
     "output_type": "stream",
     "text": [
      "['IPL-Functional_LSTM-multiout.ipynb', 'machine-learning-ex7', 'IPL-Sequential-LSTM.ipynb', '.ipynb_checkpoints', 'org.octave.Octave.desktop', 'API requests.ipynb', 'machine-learning-ex6', 'machine-learning-ex1', 'machine-learning-ex8', 'deliveries.csv', 'machine-learning-ex4', 'machine-learning-ex2', 'IPL-Functional_LSTM.ipynb', 'machine-learning-ex5', 'matches.csv', 'machine-learning-ex3']\n"
     ]
    }
   ],
   "source": [
    "import os\n",
    "print(os.listdir())"
   ]
  },
  {
   "cell_type": "code",
   "execution_count": 3,
   "metadata": {},
   "outputs": [
    {
     "data": {
      "text/plain": [
       "Index(['match_id', 'inning', 'batting_team', 'bowling_team', 'over', 'ball',\n",
       "       'batsman', 'non_striker', 'bowler', 'is_super_over', 'wide_runs',\n",
       "       'bye_runs', 'legbye_runs', 'noball_runs', 'penalty_runs',\n",
       "       'batsman_runs', 'extra_runs', 'total_runs', 'player_dismissed',\n",
       "       'dismissal_kind', 'fielder'],\n",
       "      dtype='object')"
      ]
     },
     "execution_count": 3,
     "metadata": {},
     "output_type": "execute_result"
    }
   ],
   "source": [
    "matches=pd.read_csv('matches.csv')\n",
    "deliveries=pd.read_csv('deliveries.csv')\n",
    "deliveries.player_dismissed=deliveries.player_dismissed.notnull().astype(int)\n",
    "deliveries.columns\n"
   ]
  },
  {
   "cell_type": "code",
   "execution_count": 4,
   "metadata": {},
   "outputs": [],
   "source": [
    "\n",
    "\n",
    "# A= np.array(deliveries.loc[deliveries['match_id'] == 1])\n",
    "# A.shape\n",
    "deliveries['batting_team'].unique()\n",
    "A = deliveries['batting_team'].str.get_dummies()\n",
    "B = deliveries['bowling_team'].str.get_dummies()\n"
   ]
  },
  {
   "cell_type": "code",
   "execution_count": 5,
   "metadata": {},
   "outputs": [
    {
     "data": {
      "text/html": [
       "<div>\n",
       "<style scoped>\n",
       "    .dataframe tbody tr th:only-of-type {\n",
       "        vertical-align: middle;\n",
       "    }\n",
       "\n",
       "    .dataframe tbody tr th {\n",
       "        vertical-align: top;\n",
       "    }\n",
       "\n",
       "    .dataframe thead th {\n",
       "        text-align: right;\n",
       "    }\n",
       "</style>\n",
       "<table border=\"1\" class=\"dataframe\">\n",
       "  <thead>\n",
       "    <tr style=\"text-align: right;\">\n",
       "      <th></th>\n",
       "      <th>match_id</th>\n",
       "      <th>inning</th>\n",
       "      <th>batting_team</th>\n",
       "      <th>bowling_team</th>\n",
       "      <th>over</th>\n",
       "      <th>ball</th>\n",
       "      <th>batsman</th>\n",
       "      <th>non_striker</th>\n",
       "      <th>bowler</th>\n",
       "      <th>is_super_over</th>\n",
       "      <th>...</th>\n",
       "      <th>Kings XI Punjab_bowlfirst</th>\n",
       "      <th>Kochi Tuskers Kerala_bowlfirst</th>\n",
       "      <th>Kolkata Knight Riders_bowlfirst</th>\n",
       "      <th>Mumbai Indians_bowlfirst</th>\n",
       "      <th>Pune Warriors_bowlfirst</th>\n",
       "      <th>Rajasthan Royals_bowlfirst</th>\n",
       "      <th>Rising Pune Supergiant_bowlfirst</th>\n",
       "      <th>Rising Pune Supergiants_bowlfirst</th>\n",
       "      <th>Royal Challengers Bangalore_bowlfirst</th>\n",
       "      <th>Sunrisers Hyderabad_bowlfirst</th>\n",
       "    </tr>\n",
       "  </thead>\n",
       "  <tbody>\n",
       "    <tr>\n",
       "      <th>0</th>\n",
       "      <td>1</td>\n",
       "      <td>1</td>\n",
       "      <td>Sunrisers Hyderabad</td>\n",
       "      <td>Royal Challengers Bangalore</td>\n",
       "      <td>1</td>\n",
       "      <td>1</td>\n",
       "      <td>DA Warner</td>\n",
       "      <td>S Dhawan</td>\n",
       "      <td>TS Mills</td>\n",
       "      <td>0</td>\n",
       "      <td>...</td>\n",
       "      <td>0</td>\n",
       "      <td>0</td>\n",
       "      <td>0</td>\n",
       "      <td>0</td>\n",
       "      <td>0</td>\n",
       "      <td>0</td>\n",
       "      <td>0</td>\n",
       "      <td>0</td>\n",
       "      <td>1</td>\n",
       "      <td>0</td>\n",
       "    </tr>\n",
       "    <tr>\n",
       "      <th>1</th>\n",
       "      <td>1</td>\n",
       "      <td>1</td>\n",
       "      <td>Sunrisers Hyderabad</td>\n",
       "      <td>Royal Challengers Bangalore</td>\n",
       "      <td>1</td>\n",
       "      <td>2</td>\n",
       "      <td>DA Warner</td>\n",
       "      <td>S Dhawan</td>\n",
       "      <td>TS Mills</td>\n",
       "      <td>0</td>\n",
       "      <td>...</td>\n",
       "      <td>0</td>\n",
       "      <td>0</td>\n",
       "      <td>0</td>\n",
       "      <td>0</td>\n",
       "      <td>0</td>\n",
       "      <td>0</td>\n",
       "      <td>0</td>\n",
       "      <td>0</td>\n",
       "      <td>1</td>\n",
       "      <td>0</td>\n",
       "    </tr>\n",
       "    <tr>\n",
       "      <th>2</th>\n",
       "      <td>1</td>\n",
       "      <td>1</td>\n",
       "      <td>Sunrisers Hyderabad</td>\n",
       "      <td>Royal Challengers Bangalore</td>\n",
       "      <td>1</td>\n",
       "      <td>3</td>\n",
       "      <td>DA Warner</td>\n",
       "      <td>S Dhawan</td>\n",
       "      <td>TS Mills</td>\n",
       "      <td>0</td>\n",
       "      <td>...</td>\n",
       "      <td>0</td>\n",
       "      <td>0</td>\n",
       "      <td>0</td>\n",
       "      <td>0</td>\n",
       "      <td>0</td>\n",
       "      <td>0</td>\n",
       "      <td>0</td>\n",
       "      <td>0</td>\n",
       "      <td>1</td>\n",
       "      <td>0</td>\n",
       "    </tr>\n",
       "    <tr>\n",
       "      <th>3</th>\n",
       "      <td>1</td>\n",
       "      <td>1</td>\n",
       "      <td>Sunrisers Hyderabad</td>\n",
       "      <td>Royal Challengers Bangalore</td>\n",
       "      <td>1</td>\n",
       "      <td>4</td>\n",
       "      <td>DA Warner</td>\n",
       "      <td>S Dhawan</td>\n",
       "      <td>TS Mills</td>\n",
       "      <td>0</td>\n",
       "      <td>...</td>\n",
       "      <td>0</td>\n",
       "      <td>0</td>\n",
       "      <td>0</td>\n",
       "      <td>0</td>\n",
       "      <td>0</td>\n",
       "      <td>0</td>\n",
       "      <td>0</td>\n",
       "      <td>0</td>\n",
       "      <td>1</td>\n",
       "      <td>0</td>\n",
       "    </tr>\n",
       "    <tr>\n",
       "      <th>4</th>\n",
       "      <td>1</td>\n",
       "      <td>1</td>\n",
       "      <td>Sunrisers Hyderabad</td>\n",
       "      <td>Royal Challengers Bangalore</td>\n",
       "      <td>1</td>\n",
       "      <td>5</td>\n",
       "      <td>DA Warner</td>\n",
       "      <td>S Dhawan</td>\n",
       "      <td>TS Mills</td>\n",
       "      <td>0</td>\n",
       "      <td>...</td>\n",
       "      <td>0</td>\n",
       "      <td>0</td>\n",
       "      <td>0</td>\n",
       "      <td>0</td>\n",
       "      <td>0</td>\n",
       "      <td>0</td>\n",
       "      <td>0</td>\n",
       "      <td>0</td>\n",
       "      <td>1</td>\n",
       "      <td>0</td>\n",
       "    </tr>\n",
       "  </tbody>\n",
       "</table>\n",
       "<p>5 rows × 51 columns</p>\n",
       "</div>"
      ],
      "text/plain": [
       "   match_id  inning         batting_team                 bowling_team  over  \\\n",
       "0         1       1  Sunrisers Hyderabad  Royal Challengers Bangalore     1   \n",
       "1         1       1  Sunrisers Hyderabad  Royal Challengers Bangalore     1   \n",
       "2         1       1  Sunrisers Hyderabad  Royal Challengers Bangalore     1   \n",
       "3         1       1  Sunrisers Hyderabad  Royal Challengers Bangalore     1   \n",
       "4         1       1  Sunrisers Hyderabad  Royal Challengers Bangalore     1   \n",
       "\n",
       "   ball    batsman non_striker    bowler  is_super_over  ...  \\\n",
       "0     1  DA Warner    S Dhawan  TS Mills              0  ...   \n",
       "1     2  DA Warner    S Dhawan  TS Mills              0  ...   \n",
       "2     3  DA Warner    S Dhawan  TS Mills              0  ...   \n",
       "3     4  DA Warner    S Dhawan  TS Mills              0  ...   \n",
       "4     5  DA Warner    S Dhawan  TS Mills              0  ...   \n",
       "\n",
       "   Kings XI Punjab_bowlfirst  Kochi Tuskers Kerala_bowlfirst  \\\n",
       "0                          0                               0   \n",
       "1                          0                               0   \n",
       "2                          0                               0   \n",
       "3                          0                               0   \n",
       "4                          0                               0   \n",
       "\n",
       "   Kolkata Knight Riders_bowlfirst  Mumbai Indians_bowlfirst  \\\n",
       "0                                0                         0   \n",
       "1                                0                         0   \n",
       "2                                0                         0   \n",
       "3                                0                         0   \n",
       "4                                0                         0   \n",
       "\n",
       "   Pune Warriors_bowlfirst  Rajasthan Royals_bowlfirst  \\\n",
       "0                        0                           0   \n",
       "1                        0                           0   \n",
       "2                        0                           0   \n",
       "3                        0                           0   \n",
       "4                        0                           0   \n",
       "\n",
       "   Rising Pune Supergiant_bowlfirst  Rising Pune Supergiants_bowlfirst  \\\n",
       "0                                 0                                  0   \n",
       "1                                 0                                  0   \n",
       "2                                 0                                  0   \n",
       "3                                 0                                  0   \n",
       "4                                 0                                  0   \n",
       "\n",
       "   Royal Challengers Bangalore_bowlfirst Sunrisers Hyderabad_bowlfirst  \n",
       "0                                      1                             0  \n",
       "1                                      1                             0  \n",
       "2                                      1                             0  \n",
       "3                                      1                             0  \n",
       "4                                      1                             0  \n",
       "\n",
       "[5 rows x 51 columns]"
      ]
     },
     "execution_count": 5,
     "metadata": {},
     "output_type": "execute_result"
    }
   ],
   "source": [
    "deliveries = deliveries.join(A, lsuffix='_l', rsuffix='_r')\n",
    "deliveries = deliveries.join(B, lsuffix='_batfirst', rsuffix='_bowlfirst')\n",
    "\n",
    "deliveries.head()"
   ]
  },
  {
   "cell_type": "code",
   "execution_count": 6,
   "metadata": {},
   "outputs": [],
   "source": [
    "deliveries.columns\n",
    "\n",
    "feature_cols = ['match_id', 'inning','over', 'ball', 'is_super_over', 'wide_runs',\n",
    "       'bye_runs', 'legbye_runs', 'noball_runs', 'penalty_runs',\n",
    "       'batsman_runs', 'extra_runs', 'total_runs', 'player_dismissed', 'Chennai Super Kings_batfirst',\n",
    "       'Deccan Chargers_batfirst', 'Delhi Capitals_batfirst',\n",
    "       'Delhi Daredevils_batfirst', 'Gujarat Lions_batfirst',\n",
    "       'Kings XI Punjab_batfirst', 'Kochi Tuskers Kerala_batfirst',\n",
    "       'Kolkata Knight Riders_batfirst', 'Mumbai Indians_batfirst',\n",
    "       'Pune Warriors_batfirst', 'Rajasthan Royals_batfirst',\n",
    "       'Rising Pune Supergiant_batfirst', 'Rising Pune Supergiants_batfirst',\n",
    "       'Royal Challengers Bangalore_batfirst', 'Sunrisers Hyderabad_batfirst',\n",
    "       'Chennai Super Kings_bowlfirst', 'Deccan Chargers_bowlfirst',\n",
    "       'Delhi Capitals_bowlfirst', 'Delhi Daredevils_bowlfirst',\n",
    "       'Gujarat Lions_bowlfirst', 'Kings XI Punjab_bowlfirst',\n",
    "       'Kochi Tuskers Kerala_bowlfirst', 'Kolkata Knight Riders_bowlfirst',\n",
    "       'Mumbai Indians_bowlfirst', 'Pune Warriors_bowlfirst',\n",
    "       'Rajasthan Royals_bowlfirst', 'Rising Pune Supergiant_bowlfirst',\n",
    "       'Rising Pune Supergiants_bowlfirst',\n",
    "       'Royal Challengers Bangalore_bowlfirst',\n",
    "       'Sunrisers Hyderabad_bowlfirst']"
   ]
  },
  {
   "cell_type": "code",
   "execution_count": null,
   "metadata": {},
   "outputs": [],
   "source": [
    "\n"
   ]
  },
  {
   "cell_type": "code",
   "execution_count": null,
   "metadata": {},
   "outputs": [],
   "source": []
  },
  {
   "cell_type": "code",
   "execution_count": null,
   "metadata": {},
   "outputs": [],
   "source": []
  },
  {
   "cell_type": "code",
   "execution_count": null,
   "metadata": {},
   "outputs": [],
   "source": [
    "\n"
   ]
  },
  {
   "cell_type": "code",
   "execution_count": null,
   "metadata": {},
   "outputs": [],
   "source": [
    "\n"
   ]
  },
  {
   "cell_type": "code",
   "execution_count": 7,
   "metadata": {},
   "outputs": [],
   "source": [
    "n_a=64\n",
    "feature_size = len(feature_cols)\n",
    "# number of examples\n",
    "m = len(deliveries.match_id.unique())\n",
    "# List of all the match id's used in the dataset (note not in temporal order and some ids are quite random)\n",
    "match_ids = deliveries.match_id.unique()\n",
    "\n",
    "# sorted_devs[sorted_devs[:,0].argsort()]\n",
    "Number_of_deliveries = [deliveries.match_id.value_counts(sort=False).to_dict()[x] for x in match_ids]\n",
    "\n",
    "max_game_length = max(Number_of_deliveries)\n",
    "\n",
    "# find the indices of the match starts in the original dataset\n",
    "ind_start_of_match = np.cumsum(Number_of_deliveries)\n",
    "\n",
    "\n",
    "# check =np.asarray(deliveries['ball'])[ind_start_of_match]\n",
    "npdevs = np.asarray(deliveries[feature_cols])\n",
    "\n",
    "# Set up NN layers with shareable weights\n",
    "LSTM_cell = LSTM(n_a, return_state = True)  \n",
    "reshapor = Reshape((1, feature_size)) \n",
    "densor = Dense(1,activation='sigmoid')"
   ]
  },
  {
   "cell_type": "code",
   "execution_count": 8,
   "metadata": {},
   "outputs": [],
   "source": [
    "# Insert Nans so that each game is of equal length (the length of the max)\n",
    "npdevs_pad = npdevs\n",
    "insertion_counter =0\n",
    "for ind,i  in enumerate(ind_start_of_match):\n",
    "    balls_short_of_max = max_game_length-Number_of_deliveries[ind]\n",
    "    a = np.zeros((balls_short_of_max,feature_size)) \n",
    "#     a[:] = np.nan\n",
    "#     if ind==8:\n",
    "#         print(Number_of_deliveries[ind])\n",
    "#         print(a.shape)\n",
    "    npdevs_pad = np.insert(npdevs_pad, i+insertion_counter, a, 0)\n",
    "    insertion_counter += balls_short_of_max\n"
   ]
  },
  {
   "cell_type": "code",
   "execution_count": null,
   "metadata": {},
   "outputs": [],
   "source": []
  },
  {
   "cell_type": "code",
   "execution_count": 9,
   "metadata": {},
   "outputs": [
    {
     "data": {
      "text/plain": [
       "array([[    1,     1,     1, ...,     0,     1,     0],\n",
       "       [    2,     1,     1, ...,     0,     0,     0],\n",
       "       [    3,     1,     1, ...,     0,     0,     0],\n",
       "       ...,\n",
       "       [11412,     1,     1, ...,     0,     0,     0],\n",
       "       [11413,     1,     1, ...,     0,     0,     0],\n",
       "       [11414,     1,     1, ...,     0,     0,     0]])"
      ]
     },
     "execution_count": 9,
     "metadata": {},
     "output_type": "execute_result"
    }
   ],
   "source": [
    "# Find indices of the match starts in the dataset with Nan's added\n",
    "ind_start_of_match_pad = np.cumsum(np.ones((ind_start_of_match.shape))*max_game_length)-max_game_length\n",
    "np.asarray(npdevs_pad)[ind_start_of_match_pad.astype(int)[:-1]]\n",
    "# ind_start_of_match_pad\n",
    "\n"
   ]
  },
  {
   "cell_type": "code",
   "execution_count": 10,
   "metadata": {},
   "outputs": [],
   "source": [
    "ind_start_of_match_pad=tf.convert_to_tensor(ind_start_of_match_pad.astype(int)[:-1])\n"
   ]
  },
  {
   "cell_type": "code",
   "execution_count": 11,
   "metadata": {},
   "outputs": [
    {
     "data": {
      "text/plain": [
       "267"
      ]
     },
     "execution_count": 11,
     "metadata": {},
     "output_type": "execute_result"
    }
   ],
   "source": [
    "max_game_length"
   ]
  },
  {
   "cell_type": "code",
   "execution_count": 12,
   "metadata": {},
   "outputs": [],
   "source": [
    "# X shape is m by game length by feature size\n",
    "def IPL_model(feature_size,feature_cols,n_a,max_game_length):\n",
    "    \n",
    "    X = Input(shape=(max_game_length,feature_size))\n",
    "    # Define s0, initial hidden state for the decoder LSTM\n",
    "    a0 = Input(shape=(n_a,), name='a0')\n",
    "    c0 = Input(shape=(n_a,), name='c0')\n",
    "    a = a0\n",
    "    c = c0\n",
    "    outputs = []\n",
    "    \n",
    "       # Loop over balls for the max game length\n",
    "    for t in range(max_game_length):\n",
    "        \n",
    "        # select the \"t\"th time step vector from X. \n",
    "#         x = Lambda(lambda x: np.array(deliveries.loc[deliveries['match_id'] == t]))(X)\n",
    "#         x = Lambda(lambda x: deliveries[deliveries[:,0] == t,:])(X)\n",
    "#         x = Lambda(lambda x: x[ind_start_of_match_pad+t,:])(X)\n",
    "#         x = Lambda(lambda x:   tf.gather(x,ind_start_of_match_pad+t))(X)\n",
    "        x = Lambda(lambda x: x[:,t,:])(X)\n",
    "\n",
    "        # Use reshapor to reshape x to be (1, feature_size) (≈1 line)\n",
    "        x = reshapor(x)\n",
    "        # Perform one step of the LSTM_cell\n",
    "        a, _, c = LSTM_cell(x,initial_state=[a,c])\n",
    "        # Apply densor to the hidden state output of LSTM_Cell\n",
    "        out = densor(a)\n",
    "        outputs.append(out)\n",
    "        \n",
    "    # Step 3: Create model instance\n",
    "    model = Model(inputs=[X,a0,c0],outputs=outputs)\n",
    "    \n",
    "    ### END CODE HERE ###\n",
    "    \n",
    "    return model"
   ]
  },
  {
   "cell_type": "code",
   "execution_count": null,
   "metadata": {},
   "outputs": [],
   "source": []
  },
  {
   "cell_type": "code",
   "execution_count": 13,
   "metadata": {},
   "outputs": [],
   "source": [
    "model = IPL_model(feature_size,feature_cols,n_a,max_game_length)\n"
   ]
  },
  {
   "cell_type": "code",
   "execution_count": 14,
   "metadata": {},
   "outputs": [
    {
     "name": "stdout",
     "output_type": "stream",
     "text": [
      "WARNING:tensorflow:From /usr/local/google/home/vere/.local/lib/python3.7/site-packages/tensorflow/python/ops/nn_impl.py:180: add_dispatch_support.<locals>.wrapper (from tensorflow.python.ops.array_ops) is deprecated and will be removed in a future version.\n",
      "Instructions for updating:\n",
      "Use tf.where in 2.0, which has the same broadcast rule as np.where\n"
     ]
    }
   ],
   "source": [
    "opt = Adam(lr=0.001, beta_1=0.9, beta_2=0.999, decay=0.01)\n",
    "\n",
    "model.compile(optimizer=opt, loss='binary_crossentropy', metrics=['accuracy'])"
   ]
  },
  {
   "cell_type": "code",
   "execution_count": 15,
   "metadata": {},
   "outputs": [
    {
     "data": {
      "text/plain": [
       "(267, 756)"
      ]
     },
     "execution_count": 15,
     "metadata": {},
     "output_type": "execute_result"
    }
   ],
   "source": [
    "a0 = np.zeros((m, n_a))\n",
    "c0 = np.zeros((m, n_a))\n",
    "\n",
    "# Don't care how much the team wins or loses by, \n",
    "# if the score in this col is greater than 1, then the bat first team won\n",
    "Y_final = np.array(matches.win_by_runs.clip(upper=1))\n",
    "Y = Y_final.reshape(1,m)*np.ones((max_game_length,m))\n",
    "X = np.transpose(npdevs_pad.reshape((max_game_length,m,feature_size),order='F' ),(1, 0, 2))\n",
    "# X shape is m by game length by feature size\n",
    "Y.shape"
   ]
  },
  {
   "cell_type": "code",
   "execution_count": null,
   "metadata": {},
   "outputs": [],
   "source": [
    "model.fit([X, a0, c0], list(Y), verbose = 1, epochs=200, validation_split=0.1,shuffle=True)"
   ]
  },
  {
   "cell_type": "code",
   "execution_count": 17,
   "metadata": {},
   "outputs": [],
   "source": [
    "\n",
    "# score, acc = model.evaluate(x_test, y_test)"
   ]
  }
 ],
 "metadata": {
  "kernelspec": {
   "display_name": "Python 3",
   "language": "python",
   "name": "python3"
  },
  "language_info": {
   "codemirror_mode": {
    "name": "ipython",
    "version": 3
   },
   "file_extension": ".py",
   "mimetype": "text/x-python",
   "name": "python",
   "nbconvert_exporter": "python",
   "pygments_lexer": "ipython3",
   "version": "3.7.5rc1"
  }
 },
 "nbformat": 4,
 "nbformat_minor": 2
}
